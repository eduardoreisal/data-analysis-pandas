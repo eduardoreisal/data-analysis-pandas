{
 "cells": [
  {
   "cell_type": "markdown",
   "metadata": {},
   "source": [
    "<a id =6> </a> \n",
    "### <center>Start of Noteook </center>\n",
    "# <center> <span style='color:blue'> <span style='background:yellow'>Markdown Tutorial"
   ]
  },
  {
   "cell_type": "markdown",
   "metadata": {},
   "source": [
    "# <span style='background:orange'>Headers </span>\n",
    "# Header 1 \n",
    "## Header 2 \n",
    "### Header 3\n",
    "#### Header 4"
   ]
  },
  {
   "cell_type": "markdown",
   "metadata": {},
   "source": [
    "# <span style='background:orange'>Horizontal Line</span>\n",
    "*** \n",
    "---\n",
    "___"
   ]
  },
  {
   "cell_type": "markdown",
   "metadata": {},
   "source": [
    "# <span style='background:orange'> Text color\n",
    "# <span style ='color:blue' > My favorite color is blue.  </span>"
   ]
  },
  {
   "cell_type": "markdown",
   "metadata": {},
   "source": [
    "# <span style='background:orange'>  Background color</span>\n",
    "## <span style='background :yellow' > Background color is yellow </span> \n",
    "\n"
   ]
  },
  {
   "cell_type": "markdown",
   "metadata": {},
   "source": [
    "# <span style='background:orange'>Different fonts\n",
    "## <span style='font-family:Georgia'> It is Georgia font.\n",
    "\n",
    "\n",
    "## <span style='font-family:Helvetica'> It is  Helvetica font.\n",
    "\n",
    " ## <span style='font-family:\"Times New Roman\"'> <span styel=''>It is \"Times New Roman\" font.\n",
    "\n",
    "## <span style='font-family:serif'> It is serif font.\n",
    "\n",
    "##  <span style='font-family:sans-serif'> It is sans-serif font. "
   ]
  },
  {
   "cell_type": "markdown",
   "metadata": {},
   "source": [
    "# <span style='background:orange'> Emphasis</span>\n",
    "*Italic*  or _Italic_<br>\n",
    "**Bold** <br>\n",
    "***Bold and Italic*** <br>\n",
    "~~Scratch Me.~~"
   ]
  },
  {
   "cell_type": "markdown",
   "metadata": {},
   "source": [
    "# <span style='background:orange'> Code style </span>\n",
    "`print('Hello World')`\n",
    "   "
   ]
  },
  {
   "cell_type": "markdown",
   "metadata": {},
   "source": [
    "# <span style='background:orange'>Blockquotes</span>\n",
    "> 1 Blockquotes\n",
    ">> 2 Blockquotes\n",
    ">>> 3 Blockquotes\n",
    ">>>> 4 Blockquotes\n",
    ">>>>>>>> 8 Blockquotes"
   ]
  },
  {
   "cell_type": "markdown",
   "metadata": {},
   "source": [
    "# <span style='background:orange'>List </span>\n",
    "1. Main list <br>\n",
    "a. Sub-list <br>\n",
    "b. sub list \n",
    "2. Main list\n",
    "* main list <br>\n"
   ]
  },
  {
   "cell_type": "markdown",
   "metadata": {},
   "source": [
    "# <span style='background:orange'>Table </span>\n",
    "| How | To | Make | a table|\n",
    "| :---: | :---: | :---: | :---: |\n",
    "| in   | <span style= 'background:yellow'> Jupyter </span>| <span style= 'background:yellow'> Notebook </span>| <span style= 'background:yellow'> Markdown </span> |\n",
    "| It | is | really| cool |\n",
    "\n",
    "`Colons can be used to align columns.` <br>\n",
    "    `:--- Left align` <br>\n",
    "    `---: Right align` <br>\n",
    "    `:---: Center align`"
   ]
  },
  {
   "cell_type": "markdown",
   "metadata": {},
   "source": [
    "# <span style='background:orange'> Image \n",
    "![](images/c0ban_logo.png) "
   ]
  },
  {
   "cell_type": "markdown",
   "metadata": {},
   "source": [
    "# <span style='background:orange'> Link\n",
    "# [My LinkedIn link ](www.linkedin.com/in/dcaichara)"
   ]
  },
  {
   "cell_type": "markdown",
   "metadata": {},
   "source": [
    "# <span style='background:orange'> Embed youtube video\n",
    "[![YouTube Video Link](http://img.youtube.com/vi/jqSuaRpCnro/0.jpg)](http://www.youtube.com/watch?v=jqSuaRpCnro)\n"
   ]
  },
  {
   "cell_type": "markdown",
   "metadata": {},
   "source": [
    "# <span style='background:orange'> Image Link\n",
    "[![facebook_pic](images/dca_fb.jpg)](https://www.facebook.com/DCAICHARA) "
   ]
  },
  {
   "cell_type": "markdown",
   "metadata": {},
   "source": [
    "# <span style='background:orange'> Syntax hightlighting\n",
    "```python\n",
    "A = \"Python syntax highlighting\"\n",
    "print(A)\n",
    "for i in range(0,10):\n",
    "    print(A)\n",
    "```\n",
    "    "
   ]
  },
  {
   "cell_type": "markdown",
   "metadata": {},
   "source": [
    "# <center> <span style='color:blue'>[Start of Notebook](#6) </span>"
   ]
  }
 ],
 "metadata": {
  "kernelspec": {
   "display_name": "Python 3 (ipykernel)",
   "language": "python",
   "name": "python3"
  },
  "language_info": {
   "codemirror_mode": {
    "name": "ipython",
    "version": 3
   },
   "file_extension": ".py",
   "mimetype": "text/x-python",
   "name": "python",
   "nbconvert_exporter": "python",
   "pygments_lexer": "ipython3",
   "version": "3.10.9"
  }
 },
 "nbformat": 4,
 "nbformat_minor": 2
}
