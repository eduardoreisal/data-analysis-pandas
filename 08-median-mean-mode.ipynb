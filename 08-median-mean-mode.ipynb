{
 "cells": [
  {
   "cell_type": "code",
   "execution_count": 1,
   "id": "d703c23b",
   "metadata": {},
   "outputs": [],
   "source": [
    "import pandas as pd"
   ]
  },
  {
   "cell_type": "markdown",
   "id": "86701c79",
   "metadata": {},
   "source": [
    "# Median Mean and Mode\n",
    "\n",
    "* Mean is the average\n",
    "* Median The value in the middle when all numbers are arranged in order\n",
    "* Mode is the most frequent value"
   ]
  },
  {
   "cell_type": "code",
   "execution_count": 5,
   "id": "1be538b3",
   "metadata": {
    "scrolled": true
   },
   "outputs": [
    {
     "data": {
      "text/plain": [
       "id               4.580302e+09\n",
       "price            5.400881e+05\n",
       "bedrooms         3.370842e+00\n",
       "bathrooms        2.114757e+00\n",
       "sqft_living      2.079900e+03\n",
       "sqft_lot         1.510697e+04\n",
       "floors           1.494309e+00\n",
       "waterfront       7.541757e-03\n",
       "view             2.343034e-01\n",
       "condition        3.409430e+00\n",
       "grade            7.656873e+00\n",
       "sqft_above       1.788391e+03\n",
       "sqft_basement    2.915090e+02\n",
       "yr_built         1.971005e+03\n",
       "yr_renovated     8.440226e+01\n",
       "zipcode          9.807794e+04\n",
       "lat              4.756005e+01\n",
       "long            -1.222139e+02\n",
       "sqft_living15    1.986552e+03\n",
       "sqft_lot15       1.276846e+04\n",
       "dtype: float64"
      ]
     },
     "execution_count": 5,
     "metadata": {},
     "output_type": "execute_result"
    }
   ],
   "source": [
    "houses = pd.read_csv('DataAnalysis/data/kc_house_data.csv')\n",
    "houses.mean(numeric_only=True)"
   ]
  },
  {
   "cell_type": "code",
   "execution_count": 6,
   "id": "6824cddc",
   "metadata": {
    "scrolled": false
   },
   "outputs": [
    {
     "data": {
      "text/plain": [
       "pclass      2.294882\n",
       "survived    0.381971\n",
       "sibsp       0.498854\n",
       "parch       0.385027\n",
       "dtype: float64"
      ]
     },
     "execution_count": 6,
     "metadata": {},
     "output_type": "execute_result"
    }
   ],
   "source": [
    "titanic = pd.read_csv('DataAnalysis/data/titanic.csv')\n",
    "titanic.mean(numeric_only=True)"
   ]
  },
  {
   "cell_type": "code",
   "execution_count": 10,
   "id": "10294b82",
   "metadata": {
    "scrolled": true
   },
   "outputs": [
    {
     "data": {
      "text/plain": [
       "id               3.904930e+09\n",
       "price            4.500000e+05\n",
       "bedrooms         3.000000e+00\n",
       "bathrooms        2.250000e+00\n",
       "sqft_living      1.910000e+03\n",
       "sqft_lot         7.618000e+03\n",
       "floors           1.500000e+00\n",
       "waterfront       0.000000e+00\n",
       "view             0.000000e+00\n",
       "condition        3.000000e+00\n",
       "grade            7.000000e+00\n",
       "sqft_above       1.560000e+03\n",
       "sqft_basement    0.000000e+00\n",
       "yr_built         1.975000e+03\n",
       "yr_renovated     0.000000e+00\n",
       "zipcode          9.806500e+04\n",
       "lat              4.757180e+01\n",
       "long            -1.222300e+02\n",
       "sqft_living15    1.840000e+03\n",
       "sqft_lot15       7.620000e+03\n",
       "dtype: float64"
      ]
     },
     "execution_count": 10,
     "metadata": {},
     "output_type": "execute_result"
    }
   ],
   "source": [
    "houses.median(numeric_only=True)"
   ]
  },
  {
   "cell_type": "code",
   "execution_count": 11,
   "id": "f65e9805",
   "metadata": {
    "scrolled": true
   },
   "outputs": [
    {
     "data": {
      "text/plain": [
       "pclass      3.0\n",
       "survived    0.0\n",
       "sibsp       0.0\n",
       "parch       0.0\n",
       "dtype: float64"
      ]
     },
     "execution_count": 11,
     "metadata": {},
     "output_type": "execute_result"
    }
   ],
   "source": [
    "titanic.median(numeric_only=True)"
   ]
  },
  {
   "cell_type": "code",
   "execution_count": 13,
   "id": "49246b35",
   "metadata": {},
   "outputs": [
    {
     "data": {
      "text/html": [
       "<div>\n",
       "<style scoped>\n",
       "    .dataframe tbody tr th:only-of-type {\n",
       "        vertical-align: middle;\n",
       "    }\n",
       "\n",
       "    .dataframe tbody tr th {\n",
       "        vertical-align: top;\n",
       "    }\n",
       "\n",
       "    .dataframe thead th {\n",
       "        text-align: right;\n",
       "    }\n",
       "</style>\n",
       "<table border=\"1\" class=\"dataframe\">\n",
       "  <thead>\n",
       "    <tr style=\"text-align: right;\">\n",
       "      <th></th>\n",
       "      <th>pclass</th>\n",
       "      <th>survived</th>\n",
       "      <th>name</th>\n",
       "      <th>sex</th>\n",
       "      <th>age</th>\n",
       "      <th>sibsp</th>\n",
       "      <th>parch</th>\n",
       "      <th>ticket</th>\n",
       "      <th>fare</th>\n",
       "      <th>cabin</th>\n",
       "      <th>embarked</th>\n",
       "      <th>boat</th>\n",
       "      <th>body</th>\n",
       "      <th>home.dest</th>\n",
       "    </tr>\n",
       "  </thead>\n",
       "  <tbody>\n",
       "    <tr>\n",
       "      <th>0</th>\n",
       "      <td>3.0</td>\n",
       "      <td>0.0</td>\n",
       "      <td>Connolly, Miss. Kate</td>\n",
       "      <td>male</td>\n",
       "      <td>?</td>\n",
       "      <td>0.0</td>\n",
       "      <td>0.0</td>\n",
       "      <td>CA. 2343</td>\n",
       "      <td>8.05</td>\n",
       "      <td>?</td>\n",
       "      <td>S</td>\n",
       "      <td>?</td>\n",
       "      <td>?</td>\n",
       "      <td>?</td>\n",
       "    </tr>\n",
       "    <tr>\n",
       "      <th>1</th>\n",
       "      <td>NaN</td>\n",
       "      <td>NaN</td>\n",
       "      <td>Kelly, Mr. James</td>\n",
       "      <td>NaN</td>\n",
       "      <td>NaN</td>\n",
       "      <td>NaN</td>\n",
       "      <td>NaN</td>\n",
       "      <td>NaN</td>\n",
       "      <td>NaN</td>\n",
       "      <td>NaN</td>\n",
       "      <td>NaN</td>\n",
       "      <td>NaN</td>\n",
       "      <td>NaN</td>\n",
       "      <td>NaN</td>\n",
       "    </tr>\n",
       "  </tbody>\n",
       "</table>\n",
       "</div>"
      ],
      "text/plain": [
       "   pclass  survived                  name   sex  age  sibsp  parch    ticket  \\\n",
       "0     3.0       0.0  Connolly, Miss. Kate  male    ?    0.0    0.0  CA. 2343   \n",
       "1     NaN       NaN      Kelly, Mr. James   NaN  NaN    NaN    NaN       NaN   \n",
       "\n",
       "   fare cabin embarked boat body home.dest  \n",
       "0  8.05     ?        S    ?    ?         ?  \n",
       "1   NaN   NaN      NaN  NaN  NaN       NaN  "
      ]
     },
     "execution_count": 13,
     "metadata": {},
     "output_type": "execute_result"
    }
   ],
   "source": [
    "titanic.mode()"
   ]
  }
 ],
 "metadata": {
  "kernelspec": {
   "display_name": "Python 3 (ipykernel)",
   "language": "python",
   "name": "python3"
  },
  "language_info": {
   "codemirror_mode": {
    "name": "ipython",
    "version": 3
   },
   "file_extension": ".py",
   "mimetype": "text/x-python",
   "name": "python",
   "nbconvert_exporter": "python",
   "pygments_lexer": "ipython3",
   "version": "3.10.9"
  }
 },
 "nbformat": 4,
 "nbformat_minor": 5
}
